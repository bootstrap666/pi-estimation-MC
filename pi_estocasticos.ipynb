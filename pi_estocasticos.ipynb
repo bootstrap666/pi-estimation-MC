{
  "nbformat": 4,
  "nbformat_minor": 0,
  "metadata": {
    "colab": {
      "name": "pi estocasticos.ipynb",
      "provenance": [],
      "collapsed_sections": [],
      "authorship_tag": "ABX9TyNQSufpTZO29/Jn46VVHdeI",
      "include_colab_link": true
    },
    "kernelspec": {
      "name": "python3",
      "display_name": "Python 3"
    },
    "language_info": {
      "name": "python"
    }
  },
  "cells": [
    {
      "cell_type": "markdown",
      "metadata": {
        "id": "view-in-github",
        "colab_type": "text"
      },
      "source": [
        "<a href=\"https://colab.research.google.com/github/bootstrap666/pi-estimation-MC/blob/main/pi_estocasticos.ipynb\" target=\"_parent\"><img src=\"https://colab.research.google.com/assets/colab-badge.svg\" alt=\"Open In Colab\"/></a>"
      ]
    },
    {
      "cell_type": "code",
      "execution_count": null,
      "metadata": {
        "id": "9LhoRrHxqM_X"
      },
      "outputs": [],
      "source": [
        "import numpy as np"
      ]
    },
    {
      "cell_type": "code",
      "source": [
        "N = 50000000"
      ],
      "metadata": {
        "id": "4e0kP99JrP_O"
      },
      "execution_count": null,
      "outputs": []
    },
    {
      "cell_type": "code",
      "source": [
        "def pi_estimate(N:int)->float:\n",
        "  count = 0\n",
        "  x = np.random.uniform(-1.0,1.0,N)\n",
        "  y = np.random.uniform(-1.0,1.0,N)\n",
        "\n",
        "  for i in range(N):\n",
        "    if (x[i]**2 + y[i]**2 < 1):\n",
        "      count = count+1\n",
        "\n",
        "  return (4.0*count/N)"
      ],
      "metadata": {
        "id": "xuU2iVPBrUJ1"
      },
      "execution_count": null,
      "outputs": []
    },
    {
      "cell_type": "code",
      "source": [
        "rodadas = 5\n",
        "for i in range(rodadas):\n",
        "  print(pi_estimate(N))"
      ],
      "metadata": {
        "colab": {
          "base_uri": "https://localhost:8080/"
        },
        "id": "FC90BM8Rvv0_",
        "outputId": "bf74559e-bb81-49b6-badf-5ec11390f17a"
      },
      "execution_count": null,
      "outputs": [
        {
          "output_type": "stream",
          "name": "stdout",
          "text": [
            "3.14147144\n",
            "3.14139368\n",
            "3.1411596\n",
            "3.14187416\n",
            "3.14160912\n"
          ]
        }
      ]
    }
  ]
}